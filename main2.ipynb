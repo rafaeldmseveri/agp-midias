{
 "cells": [
  {
   "cell_type": "code",
   "execution_count": 1,
   "metadata": {},
   "outputs": [],
   "source": [
    "import os\n",
    "import pandas as pd"
   ]
  },
  {
   "cell_type": "code",
   "execution_count": 16,
   "metadata": {},
   "outputs": [],
   "source": [
    "news_list = os.listdir(\"data\")"
   ]
  },
  {
   "cell_type": "code",
   "execution_count": 17,
   "metadata": {},
   "outputs": [],
   "source": [
    "news_list.remove(\".DS_Store\")\n",
    "news_list.remove(\"buzzsumo_fakenews.xlsx\")"
   ]
  },
  {
   "cell_type": "code",
   "execution_count": 18,
   "metadata": {},
   "outputs": [
    {
     "data": {
      "text/plain": [
       "['Poliarquia',\n",
       " 'Teletime News',\n",
       " 'O Documento',\n",
       " 'Terra - Notícias Do Brasil',\n",
       " 'Congresso Em Foco',\n",
       " 'Câmara dos Deputados',\n",
       " 'Overidico',\n",
       " 'Correio Braziliense',\n",
       " 'Lapada Lapada',\n",
       " 'UOL',\n",
       " 'Mix Vale',\n",
       " 'O Globo']"
      ]
     },
     "execution_count": 18,
     "metadata": {},
     "output_type": "execute_result"
    }
   ],
   "source": [
    "news_list"
   ]
  },
  {
   "cell_type": "code",
   "execution_count": 19,
   "metadata": {},
   "outputs": [],
   "source": [
    "news_dict = {}\n",
    "for news in news_list:\n",
    "    news_dict[news] = os.listdir(\"data/\" + news)"
   ]
  },
  {
   "cell_type": "code",
   "execution_count": 21,
   "metadata": {},
   "outputs": [],
   "source": [
    "news_count = {}\n",
    "for news in news_dict:\n",
    "    news_count[news] = len(news_dict[news])"
   ]
  },
  {
   "cell_type": "code",
   "execution_count": 22,
   "metadata": {},
   "outputs": [
    {
     "data": {
      "text/plain": [
       "{'Poliarquia': 0,\n",
       " 'Teletime News': 101,\n",
       " 'O Documento': 15,\n",
       " 'Terra - Notícias Do Brasil': 86,\n",
       " 'Congresso Em Foco': 107,\n",
       " 'Câmara dos Deputados': 88,\n",
       " 'Overidico': 0,\n",
       " 'Correio Braziliense': 91,\n",
       " 'Lapada Lapada': 56,\n",
       " 'UOL': 195,\n",
       " 'Mix Vale': 86,\n",
       " 'O Globo': 70}"
      ]
     },
     "execution_count": 22,
     "metadata": {},
     "output_type": "execute_result"
    }
   ],
   "source": [
    "news_count"
   ]
  },
  {
   "cell_type": "code",
   "execution_count": 24,
   "metadata": {},
   "outputs": [],
   "source": [
    "df = pd.read_excel(\"data/buzzsumo_fakenews.xlsx\")\n",
    "df.loc[df[\"Source\"] == \"Lapada Lapada – Informações em Tempo Real\", \"Source\"] = \"Lapada Lapada\"\n",
    "df.loc[df[\"Source\"].str.contains(\"Uol\"), \"Source\"] = \"UOL\"\n",
    "df.loc[df[\"Source\"].str.contains(\"UOL\"), \"Source\"] = \"UOL\"\n",
    "df.loc[df[\"Source\"].str.contains(\"uol\"), \"Source\"] = \"UOL\""
   ]
  },
  {
   "cell_type": "code",
   "execution_count": 27,
   "metadata": {},
   "outputs": [],
   "source": [
    "top_news = df[\"Source\"].value_counts()"
   ]
  },
  {
   "cell_type": "code",
   "execution_count": 32,
   "metadata": {},
   "outputs": [],
   "source": [
    "top_news = top_news.drop(\"Overidico\")\n",
    "top_news = top_news.drop(\"Poliarquia\")"
   ]
  },
  {
   "cell_type": "code",
   "execution_count": 36,
   "metadata": {},
   "outputs": [],
   "source": [
    "for news in news_count:\n",
    "    top_news[news] = news_count[news]"
   ]
  },
  {
   "cell_type": "code",
   "execution_count": 40,
   "metadata": {},
   "outputs": [
    {
     "data": {
      "text/plain": [
       "UOL                           195\n",
       "Congresso Em Foco             107\n",
       "Teletime News                 101\n",
       "Correio Braziliense            91\n",
       "Câmara dos Deputados           88\n",
       "Terra - Notícias Do Brasil     86\n",
       "Mix Vale                       86\n",
       "Novocantu                      83\n",
       "obomdanoticia                  81\n",
       "MSN Brasil                     74\n",
       "Name: Source, dtype: int64"
      ]
     },
     "execution_count": 40,
     "metadata": {},
     "output_type": "execute_result"
    }
   ],
   "source": [
    "top_news.sort_values(ascending=False)[:10]"
   ]
  },
  {
   "cell_type": "code",
   "execution_count": null,
   "metadata": {},
   "outputs": [],
   "source": []
  }
 ],
 "metadata": {
  "kernelspec": {
   "display_name": "Python 3.9.12 ('venv': venv)",
   "language": "python",
   "name": "python3"
  },
  "language_info": {
   "codemirror_mode": {
    "name": "ipython",
    "version": 3
   },
   "file_extension": ".py",
   "mimetype": "text/x-python",
   "name": "python",
   "nbconvert_exporter": "python",
   "pygments_lexer": "ipython3",
   "version": "3.9.12"
  },
  "orig_nbformat": 4,
  "vscode": {
   "interpreter": {
    "hash": "c6b7bb539a62f04173d918f783f15ea703dc61b861d6d9dd40d0ba3f6066be45"
   }
  }
 },
 "nbformat": 4,
 "nbformat_minor": 2
}
