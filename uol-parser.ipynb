{
 "cells": [
  {
   "cell_type": "code",
   "execution_count": 155,
   "metadata": {},
   "outputs": [],
   "source": [
    "from bs4 import BeautifulSoup\n",
    "import pandas as pd\n",
    "import requests\n",
    "\n",
    "import collections\n",
    "import json"
   ]
  },
  {
   "cell_type": "code",
   "execution_count": 34,
   "metadata": {},
   "outputs": [],
   "source": [
    "df = pd.read_excel(\"data/buzzsumo_fakenews.xlsx\")\n",
    "df.loc[df[\"Source\"] == \"Lapada Lapada – Informações em Tempo Real\", \"Source\"] = \"Lapada Lapada\"\n",
    "df.loc[df[\"Source\"].str.contains(\"Uol\"), \"Source\"] = \"UOL\"\n",
    "df.loc[df[\"Source\"].str.contains(\"UOL\"), \"Source\"] = \"UOL\"\n",
    "df.loc[df[\"Source\"].str.contains(\"uol\"), \"Source\"] = \"UOL\""
   ]
  },
  {
   "cell_type": "code",
   "execution_count": 35,
   "metadata": {},
   "outputs": [],
   "source": [
    "df_uol = df.loc[df[\"Source\"] == \"UOL\"]"
   ]
  },
  {
   "cell_type": "code",
   "execution_count": 36,
   "metadata": {},
   "outputs": [],
   "source": [
    "df_uol.loc[df_uol[\"URL\"].str.contains(\"bol.uol.com.br\"), \"Source\"] = \"BOL\"\n",
    "df_uol.loc[df_uol[\"URL\"].str.contains(\"noticias.uol.com.br\"), \"Source\"] = \"UOL\"\n",
    "df_uol.loc[df_uol[\"URL\"].str.contains(\"7segundos.com.br\"), \"Source\"] = \"7 Segundos\"\n",
    "df_uol.loc[df_uol[\"URL\"].str.contains(\"jc.ne10.uol.com.br\"), \"Source\"] = \"Jornal do Commercio\"\n",
    "df_uol.loc[df_uol[\"URL\"].str.contains(\"noticiasdatv.uol.com.br\"), \"Source\"] = \"Notícias da TV\"\n",
    "df_uol.loc[df_uol[\"URL\"].str.contains(\"operamundi.uol.com.br\"), \"Source\"] = \"Opera Mundi\"\n",
    "df_uol.loc[df_uol[\"URL\"].str.contains(\"paranaportal.uol.com.br\"), \"Source\"] = \"Paraná Portal\"\n",
    "df_uol.loc[df_uol[\"URL\"].str.contains(\"radiojornal.ne10.uol.com.br\"), \"Source\"] = \"Rádio Jornal\"\n",
    "df_uol.loc[df_uol[\"URL\"].str.contains(\"redetv.uol.com.br\"), \"Source\"] = \"RedeTV!\"\n",
    "df_uol.loc[df_uol[\"URL\"].str.contains(\"cultura.uol.com.br\"), \"Source\"] = \"TV Cultura\""
   ]
  },
  {
   "cell_type": "code",
   "execution_count": 40,
   "metadata": {},
   "outputs": [],
   "source": [
    "df_uol = df_uol.loc[df_uol[\"Source\"] == \"UOL\"]"
   ]
  },
  {
   "cell_type": "code",
   "execution_count": 47,
   "metadata": {},
   "outputs": [],
   "source": [
    "df_uol = df_uol.reset_index()"
   ]
  },
  {
   "cell_type": "code",
   "execution_count": 164,
   "metadata": {},
   "outputs": [],
   "source": [
    "def get_newsbody_uol(soup):\n",
    "    newsbody = soup.find(\"div\", \"text\")\n",
    "    newsbody.find(\"div\", \"slot-m\").extract()\n",
    "    return newsbody.get_text(\" \")"
   ]
  },
  {
   "cell_type": "code",
   "execution_count": 165,
   "metadata": {},
   "outputs": [],
   "source": [
    "def get_metadata_uol(soup):\n",
    "    text = soup.find(\"script\", type=\"application/ld+json\").get_text()\n",
    "    return json.loads(text)[0]"
   ]
  },
  {
   "cell_type": "code",
   "execution_count": 170,
   "metadata": {},
   "outputs": [],
   "source": [
    "news_body_list = []\n",
    "headline_list = []\n",
    "description_list = []\n",
    "author_list = []\n",
    "for _, row in df_uol.iterrows():\n",
    "    response = requests.get(row[\"URL\"])\n",
    "    if response.ok:\n",
    "        soup = BeautifulSoup(response.text, \"html.parser\")\n",
    "        try:\n",
    "            news_body_list.append(get_newsbody_uol(soup))\n",
    "        except Exception as e:\n",
    "            news_body_list.append(e)\n",
    "        try:\n",
    "            metadata = get_metadata_uol(soup)\n",
    "        except Exception as e:\n",
    "            metadata = {\"headline\" : e}\n",
    "        \n",
    "        headline_list.append(metadata.get(\"headline\"))\n",
    "        description_list.append(metadata.get(\"description\"))\n",
    "        author_list.append(metadata.get(\"author\").get(\"name\") if metadata.get(\"author\") else None)\n",
    "    else:\n",
    "        news_body_list.append(response.status_code)\n",
    "        headline_list.append(None)\n",
    "        description_list.append(None)\n",
    "        author_list.append(None)\n",
    "\n",
    "    \n",
    "df_uol[\"News Body\"] = news_body_list\n",
    "df_uol[\"Headline\"] = headline_list\n",
    "df_uol[\"Description\"] = description_list\n",
    "df_uol[\"Author\"] = author_list"
   ]
  },
  {
   "cell_type": "code",
   "execution_count": 172,
   "metadata": {},
   "outputs": [],
   "source": [
    "df_uol[[\"URL\", \"Source\", \"News Body\", \"Headline\", \"Description\", \"Author\"]].to_excel(\"Notícias UOL.xlsx\", index=False)"
   ]
  },
  {
   "cell_type": "code",
   "execution_count": null,
   "metadata": {},
   "outputs": [],
   "source": []
  }
 ],
 "metadata": {
  "kernelspec": {
   "display_name": "Python 3.9.12 ('venv': venv)",
   "language": "python",
   "name": "python3"
  },
  "language_info": {
   "codemirror_mode": {
    "name": "ipython",
    "version": 3
   },
   "file_extension": ".py",
   "mimetype": "text/x-python",
   "name": "python",
   "nbconvert_exporter": "python",
   "pygments_lexer": "ipython3",
   "version": "3.9.12"
  },
  "orig_nbformat": 4,
  "vscode": {
   "interpreter": {
    "hash": "c6b7bb539a62f04173d918f783f15ea703dc61b861d6d9dd40d0ba3f6066be45"
   }
  }
 },
 "nbformat": 4,
 "nbformat_minor": 2
}
