{
 "cells": [
  {
   "cell_type": "code",
   "execution_count": 17,
   "metadata": {},
   "outputs": [],
   "source": [
    "import pandas as pd\n",
    "import requests\n",
    "\n",
    "import os"
   ]
  },
  {
   "cell_type": "code",
   "execution_count": 7,
   "metadata": {},
   "outputs": [],
   "source": [
    "df = pd.read_excel(\"data/buzzsumo_fakenews.xlsx\")"
   ]
  },
  {
   "cell_type": "code",
   "execution_count": 8,
   "metadata": {},
   "outputs": [
    {
     "data": {
      "text/plain": [
       "Overidico                                    225\n",
       "Congresso Em Foco                            163\n",
       "O Documento                                  140\n",
       "Lapada Lapada – Informações em Tempo Real    113\n",
       "Lapada Lapada                                107\n",
       "Mix Vale                                     104\n",
       "Teletime News                                101\n",
       "Poliarquia                                    93\n",
       "Correio Braziliense                           91\n",
       "UOL Notícias                                  91\n",
       "Name: Source, dtype: int64"
      ]
     },
     "execution_count": 8,
     "metadata": {},
     "output_type": "execute_result"
    }
   ],
   "source": [
    "df[\"Source\"].value_counts()[:10]"
   ]
  },
  {
   "cell_type": "code",
   "execution_count": 9,
   "metadata": {},
   "outputs": [],
   "source": [
    "df.loc[df[\"Source\"] == \"Lapada Lapada – Informações em Tempo Real\",\"Source\"] = \"Lapada Lapada\""
   ]
  },
  {
   "cell_type": "code",
   "execution_count": 10,
   "metadata": {},
   "outputs": [
    {
     "data": {
      "text/plain": [
       "Overidico               225\n",
       "Lapada Lapada           220\n",
       "Congresso Em Foco       163\n",
       "O Documento             140\n",
       "Mix Vale                104\n",
       "Teletime News           101\n",
       "Poliarquia               93\n",
       "UOL Notícias             91\n",
       "Correio Braziliense      91\n",
       "Câmara dos Deputados     88\n",
       "Name: Source, dtype: int64"
      ]
     },
     "execution_count": 10,
     "metadata": {},
     "output_type": "execute_result"
    }
   ],
   "source": [
    "df[\"Source\"].value_counts()[:10]"
   ]
  },
  {
   "cell_type": "markdown",
   "metadata": {},
   "source": [
    "agregando todas notícias do UOL"
   ]
  },
  {
   "cell_type": "code",
   "execution_count": 11,
   "metadata": {},
   "outputs": [
    {
     "data": {
      "text/plain": [
       "UOL Notícias          91\n",
       "UOL - TILT            28\n",
       "TV Cultura - UOL      21\n",
       "UOL Jogos             16\n",
       "NE10 - UOL.com.br      6\n",
       "UOL Mais               2\n",
       "UOL Economia           1\n",
       "UOL Entretenimento     1\n",
       "Name: Source, dtype: int64"
      ]
     },
     "execution_count": 11,
     "metadata": {},
     "output_type": "execute_result"
    }
   ],
   "source": [
    "df.loc[df[\"Source\"].str.contains(\"UOL\"), \"Source\"].value_counts()"
   ]
  },
  {
   "cell_type": "code",
   "execution_count": 12,
   "metadata": {},
   "outputs": [
    {
     "data": {
      "text/plain": [
       "jc.ne10.uol.com    15\n",
       "Name: Source, dtype: int64"
      ]
     },
     "execution_count": 12,
     "metadata": {},
     "output_type": "execute_result"
    }
   ],
   "source": [
    "df.loc[df[\"Source\"].str.contains(\"Uol\"), \"Source\"].value_counts()\n",
    "df.loc[df[\"Source\"].str.contains(\"UOL\"), \"Source\"].value_counts()\n",
    "df.loc[df[\"Source\"].str.contains(\"uol\"), \"Source\"].value_counts()"
   ]
  },
  {
   "cell_type": "code",
   "execution_count": 13,
   "metadata": {},
   "outputs": [],
   "source": [
    "df.loc[df[\"Source\"].str.contains(\"Uol\"), \"Source\"] = \"UOL\"\n",
    "df.loc[df[\"Source\"].str.contains(\"UOL\"), \"Source\"] = \"UOL\"\n",
    "df.loc[df[\"Source\"].str.contains(\"uol\"), \"Source\"] = \"UOL\""
   ]
  },
  {
   "cell_type": "markdown",
   "metadata": {},
   "source": [
    "selecionando top 10"
   ]
  },
  {
   "cell_type": "code",
   "execution_count": 14,
   "metadata": {},
   "outputs": [],
   "source": [
    "news_list = list(df[\"Source\"].value_counts()[:10].index)"
   ]
  },
  {
   "cell_type": "code",
   "execution_count": 27,
   "metadata": {},
   "outputs": [
    {
     "name": "stdout",
     "output_type": "stream",
     "text": [
      "Pasta data/UOL já criada.\n"
     ]
    }
   ],
   "source": [
    "news_error = []\n",
    "for news in news_list:\n",
    "    news_urls = df[df[\"Source\"] == news][\"URL\"]\n",
    "\n",
    "    try:\n",
    "        os.mkdir(\"data/\"+news)\n",
    "    except FileExistsError:\n",
    "        print(f\"Pasta data/{news} já criada.\")\n",
    "    \n",
    "    for url in news_urls:\n",
    "        response = requests.get(url)\n",
    "        if response.ok:\n",
    "            file_name_list = url.rsplit(\"/\", 2)\n",
    "            if file_name_list[2]:\n",
    "                file_name = file_name_list[2]\n",
    "            else:\n",
    "                file_name = file_name_list[1]\n",
    "            \n",
    "            with open(f\"data/{news}/{file_name}\", \"w\") as file:\n",
    "                file.write(response.text)\n",
    "        else:\n",
    "            news_error.append(url)"
   ]
  }
 ],
 "metadata": {
  "kernelspec": {
   "display_name": "Python 3.9.12 ('venv': venv)",
   "language": "python",
   "name": "python3"
  },
  "language_info": {
   "codemirror_mode": {
    "name": "ipython",
    "version": 3
   },
   "file_extension": ".py",
   "mimetype": "text/x-python",
   "name": "python",
   "nbconvert_exporter": "python",
   "pygments_lexer": "ipython3",
   "version": "3.9.12"
  },
  "orig_nbformat": 4,
  "vscode": {
   "interpreter": {
    "hash": "c6b7bb539a62f04173d918f783f15ea703dc61b861d6d9dd40d0ba3f6066be45"
   }
  }
 },
 "nbformat": 4,
 "nbformat_minor": 2
}
